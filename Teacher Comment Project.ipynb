{
 "cells": [
  {
   "cell_type": "code",
   "execution_count": 0,
   "metadata": {
    "collapsed": false
   },
   "outputs": [
   ],
   "source": [
    "#Teacher Comment Project --- #Your task: 1. Take in a teacher spreadsheet file (teacher.csv) that contains all of the info on each student (perhaps you will need columns for student attributes, essay excerpts or grades, etc.) 2. Write a personalized comment to a separate file for each student’s name (kanye.txt,miley.txt, etc.)3. Make the teacher’s comments even better than the original! Add something of value that is not already in the teacher’s comment. What as a student would you want to see in the comments that would make them for informative to you?"
   ]
  },
  {
   "cell_type": "code",
   "execution_count": 11,
   "metadata": {
    "collapsed": false
   },
   "outputs": [
    {
     "ename": "FileNotFoundError",
     "evalue": "[Errno 2] No such file or directory: 'teacher.csv'",
     "output_type": "error",
     "traceback": [
      "\u001b[0;31m---------------------------------------------------------------------------\u001b[0m",
      "\u001b[0;31mFileNotFoundError\u001b[0m                         Traceback (most recent call last)",
      "\u001b[0;32m<ipython-input-11-7398d15d0e72>\u001b[0m in \u001b[0;36m<module>\u001b[0;34m\u001b[0m\n\u001b[1;32m      1\u001b[0m \u001b[0;32mimport\u001b[0m \u001b[0mcsv\u001b[0m\u001b[0;34m\u001b[0m\u001b[0;34m\u001b[0m\u001b[0m\n\u001b[1;32m      2\u001b[0m \u001b[0;31m# All the students' data lists\u001b[0m\u001b[0;34m\u001b[0m\u001b[0;34m\u001b[0m\u001b[0;34m\u001b[0m\u001b[0m\n\u001b[0;32m----> 3\u001b[0;31m \u001b[0;32mwith\u001b[0m \u001b[0mopen\u001b[0m\u001b[0;34m(\u001b[0m\u001b[0;34m'teacher.csv'\u001b[0m\u001b[0;34m)\u001b[0m \u001b[0;32mas\u001b[0m \u001b[0mcsvfile\u001b[0m\u001b[0;34m:\u001b[0m\u001b[0;34m\u001b[0m\u001b[0;34m\u001b[0m\u001b[0m\n\u001b[0m\u001b[1;32m      4\u001b[0m     \u001b[0mheader\u001b[0m \u001b[0;34m=\u001b[0m \u001b[0mcsvfile\u001b[0m\u001b[0;34m.\u001b[0m\u001b[0mreadline\u001b[0m\u001b[0;34m(\u001b[0m\u001b[0;34m)\u001b[0m\u001b[0;34m\u001b[0m\u001b[0;34m\u001b[0m\u001b[0m\n\u001b[1;32m      5\u001b[0m     \u001b[0mdata\u001b[0m \u001b[0;34m=\u001b[0m \u001b[0mcsv\u001b[0m\u001b[0;34m.\u001b[0m\u001b[0mreader\u001b[0m\u001b[0;34m(\u001b[0m\u001b[0mcsvfile\u001b[0m\u001b[0;34m,\u001b[0m \u001b[0mdelimiter\u001b[0m \u001b[0;34m=\u001b[0m \u001b[0;34m','\u001b[0m\u001b[0;34m)\u001b[0m\u001b[0;34m\u001b[0m\u001b[0;34m\u001b[0m\u001b[0m\n",
      "\u001b[0;31mFileNotFoundError\u001b[0m: [Errno 2] No such file or directory: 'teacher.csv'"
     ]
    }
   ],
   "source": [
    "import csv\n",
    "# All the students' data lists\n",
    "with open('teacher.csv') as csvfile:\n",
    "    header = csvfile.readline()\n",
    "    data = csv.reader(csvfile, delimiter = ',')\n",
    "    student_info = []\n",
    "    for line in data:\n",
    "        student_info.append(line)\n",
    "\n",
    "# All the variables list\n",
    "\n",
    "name = []\n",
    "classes = []\n",
    "gender = []\n",
    "assessment1 = []\n",
    "assessment2 = []\n",
    "final = []\n",
    "homework = []\n",
    "success = []\n",
    "improvements = []\n",
    "communication = []\n",
    "shortcoming = []\n",
    "final_grade = []\n",
    "\n",
    "for student in student_info:\n",
    "    name.append(student[0]+ ' '+student[1])\n",
    "    classes.append(int(student[2]))\n",
    "    gender.append(student[3])\n",
    "    assessment1.append(int(student[4]))\n",
    "    assessment2.append(int(student[5]))\n",
    "    final.append(int(student[6]))\n",
    "    homework.append(int(student[7]))\n",
    "    success.append(student[8])\n",
    "    improvements.append(student[9])\n",
    "    communication.append(student[10])\n",
    "    final_grade.append(int(student[11]))\n",
    "    shortcoming.append(student[12])\n",
    "\n",
    "# All the functions that we will use to make comments\n",
    "\n",
    "def intro():\n",
    "    '''Introduction on student comments'''\n",
    "    return 'In this semester of AP Statistics, we covered on bias, t-test, one and two tail test, statistic analysis, and z-scores. To continue to expand our knowledges on Stat in second semester, we will cover up on final with all these topics that we learned for this semester. Since we have had daily homeworks that were graded, those will help to recover knowledges. Students in Stats took two small assessments and one big final. They also had to communicate with teachers and peers to show their knowledges and help each others.'\n",
    "\n",
    "def morf(i):\n",
    "    if gender[i] == 'M':\n",
    "        x = 'he'\n",
    "        z = 'his'\n",
    "    if gender[i] == 'F':\n",
    "        x = 'she'\n",
    "        z = 'her'\n",
    "    return x,z\n",
    "\n",
    "# Comments on tests the student took assessment1, 2 and final\n",
    "def tests(i):\n",
    "    x,z = morf(i)\n",
    "    average = round((assessment1[i] + assessment2[i] + final[i])/3,1)\n",
    "    if average > 93:\n",
    "        return f\"{name[i],title()} has shown huge understandment of the subject through these tests. With outstanding {average}%, We know that {x} will become even successful in second semester for this class.\"\n",
    "    elif average > 80:\n",
    "        return f\"{name[i],title()} has shown some understandment of the subject through these tests. With an average of {average}%. We want {x} to prepare little bit more on these test on firsthand  and we believe in {z} that {x} will do well in second semester.\"\n",
    "    else:\n",
    "        return f\"{name[i],title()} has shown little understandment of the subject through these tests. However, we want 'z' to work harder for this class and reach out if they need help. With an average of {average}%, hope {x} becomes successful student for this class.\"\n",
    "\n",
    "# Comments on Homework\n",
    "def hw(i):\n",
    "    x,z = morf(i)\n",
    "    if homework[i] > 90:\n",
    "         return f\" {x} scored of {homework[i]}% on homeworks, as the score shows 'x' is prepared for all the syncronous classes :), keep up your work {name}!.\"\n",
    "    elif homework[i] > 70:\n",
    "         return f\" {x} scored of {homework[i]}% on homeworks, as the score shows 'x' put some efforts to prepare for the classes. I think {x} can improve on working with homeworks. Keep up with good work {name}.\"\n",
    "    else:\n",
    "         return f\" {x} scored of {homework[i]}% on homeworks, as the score shows 'x' could improve on getting homework done in time. If you have any trouble solving problems, feel free to email me to get help.\"\n",
    "\n",
    "# communication\n",
    "\n",
    "def communicate(i):\n",
    "    x,z = morf(i)\n",
    "    if communication[i] == 100:\n",
    "        return f\"{name[i],title()} communicated with peers and I well. This shows that {x} participated well for class and knows how to work with teachers and peers in class.\"\n",
    "    elif communication > 80:\n",
    "        return f\"{name[i],title()} communicated with peers and I fairly well. This shows that {x} tried to put effort to participate in class and work with teachers and peers in class.\"\n",
    "    else:\n",
    "        return f\"{name[i],title()} communicated poorly with peers and I. {x} needs to know how to communicate with peers and I to have better participation and knowledge.\"\n",
    "\n",
    "# success & improvements\n",
    "\n",
    "def proscons(i):\n",
    "    x,z = morf(i)\n",
    "    return f\"{name[i],title()} has been one of the best student for the class this semester.\"\n",
    "    return f\"{x.title()} {success[i].lower()} was one of {z} ways to be successed in this class.\"\n",
    "    return f\"However, {x} needs to improve on {improvements[i].lower}, I believe that {x} can do better at it so {x} can be even more successful for the class.\"\n",
    "    if shortcoming[i] == 'None':\n",
    "        return f\" Finally, {x} never failed or had a trouble with any assessments or final in this class.\"\n",
    "    else:\n",
    "        return f\"{x.title()} was having trouble on {shortcoming[i].lower()}.\"\n",
    "\n",
    "# Last paragraph, conclusion\n",
    "\n",
    "def conclusion(i):\n",
    "    x,z = morf(i)\n",
    "    if final_grade[i] > 92:\n",
    "        return f\" I'm pleasured to have {name[i],title()} this year for this class. {x} was one of the top students for this course and had lots of success in the class. {z.title()} final grade is {final_grade[i]}, which is an A.\"\n",
    "    elif final_grade[i] > 86:\n",
    "        return f\" I'm pleasured to have {name[i],title()} this year for this class. {x} has done well for this course. I believe that he could done better. {z.title()} final grade is {final_grade[i]}, which is an B.\"\n",
    "    elif final_grade[i] > 79:\n",
    "         return f\" I'm pleasured to have {name[i],title()} this year for this class. {x} has met some expectations, however, {x} needed to improve little bit more and had lots of challenges throughout the class. {z.title()} final grade is {final_grade[i]}, which is an C.\"\n",
    "    else:\n",
    "         return f\" I'm pleasured to have {name[i],title()} this year for this class. {x} has not met the expectation of the class. {x} needs to take a course again to gain credit. {z.title()} final grade is {final_grade[i]}, which is an F.\"\n",
    "\n",
    "for i in range(len(name)):\n",
    "    essay = ' '\n",
    "    morf(i)\n",
    "    essay += intro(i)\n",
    "    essay += proscons(i)\n",
    "    essay += tests(i)\n",
    "    essay += hw(i)\n",
    "    essay += communicate(i)\n",
    "    essay += conclusion(i)\n",
    "    fout = open(f\"{name[i]}.txt\", 'w')\n",
    "    fout.write(essay)\n",
    "    fout.close()\n",
    "\n",
    "\n"
   ]
  },
  {
   "cell_type": "code",
   "execution_count": 0,
   "metadata": {
    "collapsed": false
   },
   "outputs": [
   ],
   "source": [
   ]
  },
  {
   "cell_type": "code",
   "execution_count": 0,
   "metadata": {
    "collapsed": false
   },
   "outputs": [
   ],
   "source": [
   ]
  }
 ],
 "metadata": {
  "kernelspec": {
   "display_name": "Python 3 (system-wide)",
   "language": "python",
   "metadata": {
    "cocalc": {
     "description": "Python 3 programming language",
     "priority": 100,
     "url": "https://www.python.org/"
    }
   },
   "name": "python3",
   "resource_dir": "/ext/jupyter/kernels/python3"
  },
  "language_info": {
   "codemirror_mode": {
    "name": "ipython",
    "version": 3
   },
   "file_extension": ".py",
   "mimetype": "text/x-python",
   "name": "python",
   "nbconvert_exporter": "python",
   "pygments_lexer": "ipython3",
   "version": "3.8.5"
  }
 },
 "nbformat": 4,
 "nbformat_minor": 4
}